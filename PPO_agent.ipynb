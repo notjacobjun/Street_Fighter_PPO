{
 "cells": [
  {
   "attachments": {},
   "cell_type": "markdown",
   "metadata": {},
   "source": [
    "## Setup the StreetFighter environment"
   ]
  },
  {
   "cell_type": "code",
   "execution_count": 1,
   "metadata": {},
   "outputs": [
    {
     "name": "stdout",
     "output_type": "stream",
     "text": [
      "Requirement already satisfied: pip in ./street_fighter/lib/python3.8/site-packages (22.3.1)\n",
      "Note: you may need to restart the kernel to use updated packages.\n",
      "Requirement already satisfied: gym==0.21.0 in ./street_fighter/lib/python3.8/site-packages (0.21.0)\n",
      "Requirement already satisfied: numpy>=1.18.0 in ./street_fighter/lib/python3.8/site-packages (from gym==0.21.0) (1.24.0)\n",
      "Requirement already satisfied: cloudpickle>=1.2.0 in ./street_fighter/lib/python3.8/site-packages (from gym==0.21.0) (2.2.0)\n",
      "Note: you may need to restart the kernel to use updated packages.\n",
      "Requirement already satisfied: gym-retro in ./street_fighter/lib/python3.8/site-packages (0.8.0)\n",
      "Requirement already satisfied: pyglet==1.*,>=1.3.2 in ./street_fighter/lib/python3.8/site-packages (from gym-retro) (1.5.27)\n",
      "Requirement already satisfied: gym in ./street_fighter/lib/python3.8/site-packages (from gym-retro) (0.21.0)\n",
      "Requirement already satisfied: numpy>=1.18.0 in ./street_fighter/lib/python3.8/site-packages (from gym->gym-retro) (1.24.0)\n",
      "Requirement already satisfied: cloudpickle>=1.2.0 in ./street_fighter/lib/python3.8/site-packages (from gym->gym-retro) (2.2.0)\n",
      "Note: you may need to restart the kernel to use updated packages.\n",
      "Requirement already satisfied: retrowrapper in ./street_fighter/lib/python3.8/site-packages (0.3.0)\n",
      "Requirement already satisfied: gym-retro in ./street_fighter/lib/python3.8/site-packages (from retrowrapper) (0.8.0)\n",
      "Requirement already satisfied: gym in ./street_fighter/lib/python3.8/site-packages (from gym-retro->retrowrapper) (0.21.0)\n",
      "Requirement already satisfied: pyglet==1.*,>=1.3.2 in ./street_fighter/lib/python3.8/site-packages (from gym-retro->retrowrapper) (1.5.27)\n",
      "Requirement already satisfied: numpy>=1.18.0 in ./street_fighter/lib/python3.8/site-packages (from gym->gym-retro->retrowrapper) (1.24.0)\n",
      "Requirement already satisfied: cloudpickle>=1.2.0 in ./street_fighter/lib/python3.8/site-packages (from gym->gym-retro->retrowrapper) (2.2.0)\n",
      "Note: you may need to restart the kernel to use updated packages.\n",
      "Requirement already satisfied: opencv-python in ./street_fighter/lib/python3.8/site-packages (4.6.0.66)\n",
      "Requirement already satisfied: numpy>=1.14.5 in ./street_fighter/lib/python3.8/site-packages (from opencv-python) (1.24.0)\n",
      "Note: you may need to restart the kernel to use updated packages.\n",
      "Requirement already satisfied: matplotlib in ./street_fighter/lib/python3.8/site-packages (3.6.2)\n",
      "Requirement already satisfied: contourpy>=1.0.1 in ./street_fighter/lib/python3.8/site-packages (from matplotlib) (1.0.6)\n",
      "Requirement already satisfied: kiwisolver>=1.0.1 in ./street_fighter/lib/python3.8/site-packages (from matplotlib) (1.4.4)\n",
      "Requirement already satisfied: python-dateutil>=2.7 in ./street_fighter/lib/python3.8/site-packages (from matplotlib) (2.8.2)\n",
      "Requirement already satisfied: numpy>=1.19 in ./street_fighter/lib/python3.8/site-packages (from matplotlib) (1.24.0)\n",
      "Requirement already satisfied: pillow>=6.2.0 in ./street_fighter/lib/python3.8/site-packages (from matplotlib) (9.3.0)\n",
      "Requirement already satisfied: packaging>=20.0 in ./street_fighter/lib/python3.8/site-packages (from matplotlib) (22.0)\n",
      "Requirement already satisfied: fonttools>=4.22.0 in ./street_fighter/lib/python3.8/site-packages (from matplotlib) (4.38.0)\n",
      "Requirement already satisfied: cycler>=0.10 in ./street_fighter/lib/python3.8/site-packages (from matplotlib) (0.11.0)\n",
      "Requirement already satisfied: pyparsing>=2.2.1 in ./street_fighter/lib/python3.8/site-packages (from matplotlib) (3.0.9)\n",
      "Requirement already satisfied: six>=1.5 in ./street_fighter/lib/python3.8/site-packages (from python-dateutil>=2.7->matplotlib) (1.16.0)\n",
      "Note: you may need to restart the kernel to use updated packages.\n",
      "Requirement already satisfied: torch in ./street_fighter/lib/python3.8/site-packages (1.13.1)\n",
      "Requirement already satisfied: typing-extensions in ./street_fighter/lib/python3.8/site-packages (from torch) (4.4.0)\n",
      "Note: you may need to restart the kernel to use updated packages.\n",
      "zsh:1: no matches found: stable-baselines3[extra]\n",
      "Note: you may need to restart the kernel to use updated packages.\n",
      "Requirement already satisfied: stable-baselines3 in ./street_fighter/lib/python3.8/site-packages (1.6.2)\n",
      "Requirement already satisfied: numpy in ./street_fighter/lib/python3.8/site-packages (from stable-baselines3) (1.24.0)\n",
      "Requirement already satisfied: gym==0.21 in ./street_fighter/lib/python3.8/site-packages (from stable-baselines3) (0.21.0)\n",
      "Requirement already satisfied: importlib-metadata~=4.13 in ./street_fighter/lib/python3.8/site-packages (from stable-baselines3) (4.13.0)\n",
      "Requirement already satisfied: cloudpickle in ./street_fighter/lib/python3.8/site-packages (from stable-baselines3) (2.2.0)\n",
      "Requirement already satisfied: torch>=1.11 in ./street_fighter/lib/python3.8/site-packages (from stable-baselines3) (1.13.1)\n",
      "Requirement already satisfied: matplotlib in ./street_fighter/lib/python3.8/site-packages (from stable-baselines3) (3.6.2)\n",
      "Requirement already satisfied: pandas in ./street_fighter/lib/python3.8/site-packages (from stable-baselines3) (1.5.2)\n",
      "Requirement already satisfied: zipp>=0.5 in ./street_fighter/lib/python3.8/site-packages (from importlib-metadata~=4.13->stable-baselines3) (3.11.0)\n",
      "Requirement already satisfied: typing-extensions in ./street_fighter/lib/python3.8/site-packages (from torch>=1.11->stable-baselines3) (4.4.0)\n",
      "Requirement already satisfied: pyparsing>=2.2.1 in ./street_fighter/lib/python3.8/site-packages (from matplotlib->stable-baselines3) (3.0.9)\n",
      "Requirement already satisfied: kiwisolver>=1.0.1 in ./street_fighter/lib/python3.8/site-packages (from matplotlib->stable-baselines3) (1.4.4)\n",
      "Requirement already satisfied: contourpy>=1.0.1 in ./street_fighter/lib/python3.8/site-packages (from matplotlib->stable-baselines3) (1.0.6)\n",
      "Requirement already satisfied: fonttools>=4.22.0 in ./street_fighter/lib/python3.8/site-packages (from matplotlib->stable-baselines3) (4.38.0)\n",
      "Requirement already satisfied: cycler>=0.10 in ./street_fighter/lib/python3.8/site-packages (from matplotlib->stable-baselines3) (0.11.0)\n",
      "Requirement already satisfied: packaging>=20.0 in ./street_fighter/lib/python3.8/site-packages (from matplotlib->stable-baselines3) (22.0)\n",
      "Requirement already satisfied: python-dateutil>=2.7 in ./street_fighter/lib/python3.8/site-packages (from matplotlib->stable-baselines3) (2.8.2)\n",
      "Requirement already satisfied: pillow>=6.2.0 in ./street_fighter/lib/python3.8/site-packages (from matplotlib->stable-baselines3) (9.3.0)\n",
      "Requirement already satisfied: pytz>=2020.1 in ./street_fighter/lib/python3.8/site-packages (from pandas->stable-baselines3) (2022.7)\n",
      "Requirement already satisfied: six>=1.5 in ./street_fighter/lib/python3.8/site-packages (from python-dateutil>=2.7->matplotlib->stable-baselines3) (1.16.0)\n",
      "Note: you may need to restart the kernel to use updated packages.\n",
      "Requirement already satisfied: optuna in ./street_fighter/lib/python3.8/site-packages (3.0.5)\n",
      "Requirement already satisfied: importlib-metadata<5.0.0 in ./street_fighter/lib/python3.8/site-packages (from optuna) (4.13.0)\n",
      "Requirement already satisfied: PyYAML in ./street_fighter/lib/python3.8/site-packages (from optuna) (6.0)\n",
      "Requirement already satisfied: scipy<1.9.0,>=1.7.0 in ./street_fighter/lib/python3.8/site-packages (from optuna) (1.8.1)\n",
      "Requirement already satisfied: cliff in ./street_fighter/lib/python3.8/site-packages (from optuna) (4.1.0)\n",
      "Requirement already satisfied: cmaes>=0.8.2 in ./street_fighter/lib/python3.8/site-packages (from optuna) (0.9.0)\n",
      "Requirement already satisfied: colorlog in ./street_fighter/lib/python3.8/site-packages (from optuna) (6.7.0)\n",
      "Requirement already satisfied: alembic>=1.5.0 in ./street_fighter/lib/python3.8/site-packages (from optuna) (1.9.1)\n",
      "Requirement already satisfied: tqdm in ./street_fighter/lib/python3.8/site-packages (from optuna) (4.64.1)\n",
      "Requirement already satisfied: packaging>=20.0 in ./street_fighter/lib/python3.8/site-packages (from optuna) (22.0)\n",
      "Requirement already satisfied: numpy in ./street_fighter/lib/python3.8/site-packages (from optuna) (1.24.0)\n",
      "Requirement already satisfied: sqlalchemy>=1.3.0 in ./street_fighter/lib/python3.8/site-packages (from optuna) (1.4.45)\n",
      "Requirement already satisfied: importlib-resources in ./street_fighter/lib/python3.8/site-packages (from alembic>=1.5.0->optuna) (5.10.1)\n",
      "Requirement already satisfied: Mako in ./street_fighter/lib/python3.8/site-packages (from alembic>=1.5.0->optuna) (1.2.4)\n",
      "Requirement already satisfied: zipp>=0.5 in ./street_fighter/lib/python3.8/site-packages (from importlib-metadata<5.0.0->optuna) (3.11.0)\n",
      "Requirement already satisfied: greenlet!=0.4.17 in ./street_fighter/lib/python3.8/site-packages (from sqlalchemy>=1.3.0->optuna) (2.0.1)\n",
      "Requirement already satisfied: autopage>=0.4.0 in ./street_fighter/lib/python3.8/site-packages (from cliff->optuna) (0.5.1)\n",
      "Requirement already satisfied: PrettyTable>=0.7.2 in ./street_fighter/lib/python3.8/site-packages (from cliff->optuna) (3.5.0)\n",
      "Requirement already satisfied: stevedore>=2.0.1 in ./street_fighter/lib/python3.8/site-packages (from cliff->optuna) (4.1.1)\n",
      "Requirement already satisfied: cmd2>=1.0.0 in ./street_fighter/lib/python3.8/site-packages (from cliff->optuna) (2.4.2)\n",
      "Requirement already satisfied: wcwidth>=0.1.7 in ./street_fighter/lib/python3.8/site-packages (from cmd2>=1.0.0->cliff->optuna) (0.2.5)\n",
      "Requirement already satisfied: attrs>=16.3.0 in ./street_fighter/lib/python3.8/site-packages (from cmd2>=1.0.0->cliff->optuna) (22.2.0)\n",
      "Requirement already satisfied: pyperclip>=1.6 in ./street_fighter/lib/python3.8/site-packages (from cmd2>=1.0.0->cliff->optuna) (1.8.2)\n",
      "Requirement already satisfied: pbr!=2.1.0,>=2.0.0 in ./street_fighter/lib/python3.8/site-packages (from stevedore>=2.0.1->cliff->optuna) (5.11.0)\n",
      "Requirement already satisfied: MarkupSafe>=0.9.2 in ./street_fighter/lib/python3.8/site-packages (from Mako->alembic>=1.5.0->optuna) (2.1.1)\n",
      "Note: you may need to restart the kernel to use updated packages.\n",
      "Collecting tensorboard\n",
      "  Downloading tensorboard-2.11.0-py3-none-any.whl (6.0 MB)\n",
      "\u001b[2K     \u001b[90m━━━━━━━━━━━━━━━━━━━━━━━━━━━━━━━━━━━━━━━━\u001b[0m \u001b[32m6.0/6.0 MB\u001b[0m \u001b[31m16.2 MB/s\u001b[0m eta \u001b[36m0:00:00\u001b[0m00:01\u001b[0m00:01\u001b[0m\n",
      "\u001b[?25hCollecting google-auth-oauthlib<0.5,>=0.4.1\n",
      "  Using cached google_auth_oauthlib-0.4.6-py2.py3-none-any.whl (18 kB)\n",
      "Collecting protobuf<4,>=3.9.2\n",
      "  Downloading protobuf-3.20.3-cp38-cp38-macosx_10_9_x86_64.whl (982 kB)\n",
      "\u001b[2K     \u001b[90m━━━━━━━━━━━━━━━━━━━━━━━━━━━━━━━━━━━━━━\u001b[0m \u001b[32m982.9/982.9 kB\u001b[0m \u001b[31m14.4 MB/s\u001b[0m eta \u001b[36m0:00:00\u001b[0ma \u001b[36m0:00:01\u001b[0m\n",
      "\u001b[?25hCollecting tensorboard-plugin-wit>=1.6.0\n",
      "  Downloading tensorboard_plugin_wit-1.8.1-py3-none-any.whl (781 kB)\n",
      "\u001b[2K     \u001b[90m━━━━━━━━━━━━━━━━━━━━━━━━━━━━━━━━━━━━━━\u001b[0m \u001b[32m781.3/781.3 kB\u001b[0m \u001b[31m15.8 MB/s\u001b[0m eta \u001b[36m0:00:00\u001b[0m00:01\u001b[0m\n",
      "\u001b[?25hCollecting wheel>=0.26\n",
      "  Using cached wheel-0.38.4-py3-none-any.whl (36 kB)\n",
      "Collecting markdown>=2.6.8\n",
      "  Downloading Markdown-3.4.1-py3-none-any.whl (93 kB)\n",
      "\u001b[2K     \u001b[90m━━━━━━━━━━━━━━━━━━━━━━━━━━━━━━━━━━━━━━━━\u001b[0m \u001b[32m93.3/93.3 kB\u001b[0m \u001b[31m3.3 MB/s\u001b[0m eta \u001b[36m0:00:00\u001b[0m\n",
      "\u001b[?25hCollecting werkzeug>=1.0.1\n",
      "  Downloading Werkzeug-2.2.2-py3-none-any.whl (232 kB)\n",
      "\u001b[2K     \u001b[90m━━━━━━━━━━━━━━━━━━━━━━━━━━━━━━━━━━━━━━━\u001b[0m \u001b[32m232.7/232.7 kB\u001b[0m \u001b[31m7.8 MB/s\u001b[0m eta \u001b[36m0:00:00\u001b[0m\n",
      "\u001b[?25hCollecting absl-py>=0.4\n",
      "  Downloading absl_py-1.3.0-py3-none-any.whl (124 kB)\n",
      "\u001b[2K     \u001b[90m━━━━━━━━━━━━━━━━━━━━━━━━━━━━━━━━━━━━━━━\u001b[0m \u001b[32m124.6/124.6 kB\u001b[0m \u001b[31m4.4 MB/s\u001b[0m eta \u001b[36m0:00:00\u001b[0m\n",
      "\u001b[?25hCollecting tensorboard-data-server<0.7.0,>=0.6.0\n",
      "  Downloading tensorboard_data_server-0.6.1-py3-none-macosx_10_9_x86_64.whl (3.5 MB)\n",
      "\u001b[2K     \u001b[90m━━━━━━━━━━━━━━━━━━━━━━━━━━━━━━━━━━━━━━━━\u001b[0m \u001b[32m3.5/3.5 MB\u001b[0m \u001b[31m22.4 MB/s\u001b[0m eta \u001b[36m0:00:00\u001b[0m00:01\u001b[0m00:01\u001b[0m\n",
      "\u001b[?25hCollecting grpcio>=1.24.3\n",
      "  Downloading grpcio-1.51.1-cp38-cp38-macosx_10_10_x86_64.whl (4.6 MB)\n",
      "\u001b[2K     \u001b[90m━━━━━━━━━━━━━━━━━━━━━━━━━━━━━━━━━━━━━━━━\u001b[0m \u001b[32m4.6/4.6 MB\u001b[0m \u001b[31m24.8 MB/s\u001b[0m eta \u001b[36m0:00:00\u001b[0m00:01\u001b[0m00:01\u001b[0m\n",
      "\u001b[?25hCollecting google-auth<3,>=1.6.3\n",
      "  Downloading google_auth-2.15.0-py2.py3-none-any.whl (177 kB)\n",
      "\u001b[2K     \u001b[90m━━━━━━━━━━━━━━━━━━━━━━━━━━━━━━━━━━━━━━━\u001b[0m \u001b[32m177.0/177.0 kB\u001b[0m \u001b[31m5.8 MB/s\u001b[0m eta \u001b[36m0:00:00\u001b[0m\n",
      "\u001b[?25hRequirement already satisfied: numpy>=1.12.0 in ./street_fighter/lib/python3.8/site-packages (from tensorboard) (1.24.0)\n",
      "Requirement already satisfied: setuptools>=41.0.0 in ./street_fighter/lib/python3.8/site-packages (from tensorboard) (56.0.0)\n",
      "Collecting requests<3,>=2.21.0\n",
      "  Using cached requests-2.28.1-py3-none-any.whl (62 kB)\n",
      "Collecting rsa<5,>=3.1.4\n",
      "  Downloading rsa-4.9-py3-none-any.whl (34 kB)\n",
      "Collecting cachetools<6.0,>=2.0.0\n",
      "  Using cached cachetools-5.2.0-py3-none-any.whl (9.3 kB)\n",
      "Requirement already satisfied: six>=1.9.0 in ./street_fighter/lib/python3.8/site-packages (from google-auth<3,>=1.6.3->tensorboard) (1.16.0)\n",
      "Collecting pyasn1-modules>=0.2.1\n",
      "  Using cached pyasn1_modules-0.2.8-py2.py3-none-any.whl (155 kB)\n",
      "Collecting requests-oauthlib>=0.7.0\n",
      "  Downloading requests_oauthlib-1.3.1-py2.py3-none-any.whl (23 kB)\n",
      "Requirement already satisfied: importlib-metadata>=4.4 in ./street_fighter/lib/python3.8/site-packages (from markdown>=2.6.8->tensorboard) (4.13.0)\n",
      "Collecting certifi>=2017.4.17\n",
      "  Downloading certifi-2022.12.7-py3-none-any.whl (155 kB)\n",
      "\u001b[2K     \u001b[90m━━━━━━━━━━━━━━━━━━━━━━━━━━━━━━━━━━━━━━━\u001b[0m \u001b[32m155.3/155.3 kB\u001b[0m \u001b[31m5.5 MB/s\u001b[0m eta \u001b[36m0:00:00\u001b[0m\n",
      "\u001b[?25hCollecting urllib3<1.27,>=1.21.1\n",
      "  Downloading urllib3-1.26.13-py2.py3-none-any.whl (140 kB)\n",
      "\u001b[2K     \u001b[90m━━━━━━━━━━━━━━━━━━━━━━━━━━━━━━━━━━━━━━━\u001b[0m \u001b[32m140.6/140.6 kB\u001b[0m \u001b[31m4.7 MB/s\u001b[0m eta \u001b[36m0:00:00\u001b[0m\n",
      "\u001b[?25hCollecting idna<4,>=2.5\n",
      "  Downloading idna-3.4-py3-none-any.whl (61 kB)\n",
      "\u001b[2K     \u001b[90m━━━━━━━━━━━━━━━━━━━━━━━━━━━━━━━━━━━━━━━━\u001b[0m \u001b[32m61.5/61.5 kB\u001b[0m \u001b[31m2.1 MB/s\u001b[0m eta \u001b[36m0:00:00\u001b[0m\n",
      "\u001b[?25hCollecting charset-normalizer<3,>=2\n",
      "  Using cached charset_normalizer-2.1.1-py3-none-any.whl (39 kB)\n",
      "Requirement already satisfied: MarkupSafe>=2.1.1 in ./street_fighter/lib/python3.8/site-packages (from werkzeug>=1.0.1->tensorboard) (2.1.1)\n",
      "Requirement already satisfied: zipp>=0.5 in ./street_fighter/lib/python3.8/site-packages (from importlib-metadata>=4.4->markdown>=2.6.8->tensorboard) (3.11.0)\n",
      "Collecting pyasn1<0.5.0,>=0.4.6\n",
      "  Using cached pyasn1-0.4.8-py2.py3-none-any.whl (77 kB)\n",
      "Collecting oauthlib>=3.0.0\n",
      "  Downloading oauthlib-3.2.2-py3-none-any.whl (151 kB)\n",
      "\u001b[2K     \u001b[90m━━━━━━━━━━━━━━━━━━━━━━━━━━━━━━━━━━━━━━━\u001b[0m \u001b[32m151.7/151.7 kB\u001b[0m \u001b[31m5.6 MB/s\u001b[0m eta \u001b[36m0:00:00\u001b[0m\n",
      "\u001b[?25hInstalling collected packages: tensorboard-plugin-wit, pyasn1, wheel, werkzeug, urllib3, tensorboard-data-server, rsa, pyasn1-modules, protobuf, oauthlib, idna, grpcio, charset-normalizer, certifi, cachetools, absl-py, requests, markdown, google-auth, requests-oauthlib, google-auth-oauthlib, tensorboard\n",
      "Successfully installed absl-py-1.3.0 cachetools-5.2.0 certifi-2022.12.7 charset-normalizer-2.1.1 google-auth-2.15.0 google-auth-oauthlib-0.4.6 grpcio-1.51.1 idna-3.4 markdown-3.4.1 oauthlib-3.2.2 protobuf-3.20.3 pyasn1-0.4.8 pyasn1-modules-0.2.8 requests-2.28.1 requests-oauthlib-1.3.1 rsa-4.9 tensorboard-2.11.0 tensorboard-data-server-0.6.1 tensorboard-plugin-wit-1.8.1 urllib3-1.26.13 werkzeug-2.2.2 wheel-0.38.4\n",
      "Note: you may need to restart the kernel to use updated packages.\n"
     ]
    }
   ],
   "source": [
    "%pip install --upgrade pip\n",
    "%pip install gym==0.21.0\n",
    "%pip install gym-retro\n",
    "%pip install retrowrapper\n",
    "%pip install opencv-python\n",
    "%pip install matplotlib\n",
    "%pip install torch \n",
    "%pip install stable-baselines3[extra]\n",
    "%pip install stable-baselines3\n",
    "%pip install optuna\n",
    "%pip install tensorboard"
   ]
  },
  {
   "cell_type": "code",
   "execution_count": 2,
   "metadata": {},
   "outputs": [],
   "source": [
    "# Run this if you need to reset the runtime because we aren't using retrowrapper yet\n",
    "# env.close()"
   ]
  },
  {
   "cell_type": "code",
   "execution_count": 3,
   "metadata": {},
   "outputs": [],
   "source": [
    "# import retro for retro games (Street Fighter)\n",
    "import retro\n",
    "# import retrowrapper\n",
    "# import time to slow down the game\n",
    "import time\n",
    "import os \n",
    "\n",
    "# After downloading the ROM for Street Fighter, we used this command in the roms folder to connect it with our gym retro environment (python -m retro.import .)\n",
    "# import the ROM for Street Fighter\n",
    "gamename = \"StreetFighterIISpecialChampionEdition-Genesis\"\n",
    "# env = retrowrapper.RetroWrapper(gamename)\n",
    "env = retro.make(game='StreetFighterIISpecialChampionEdition-Genesis')"
   ]
  },
  {
   "attachments": {},
   "cell_type": "markdown",
   "metadata": {},
   "source": [
    "### Figure out the observation and action space of the environment"
   ]
  },
  {
   "cell_type": "code",
   "execution_count": 4,
   "metadata": {},
   "outputs": [
    {
     "data": {
      "text/plain": [
       "Box([[[0 0 0]\n",
       "  [0 0 0]\n",
       "  [0 0 0]\n",
       "  ...\n",
       "  [0 0 0]\n",
       "  [0 0 0]\n",
       "  [0 0 0]]\n",
       "\n",
       " [[0 0 0]\n",
       "  [0 0 0]\n",
       "  [0 0 0]\n",
       "  ...\n",
       "  [0 0 0]\n",
       "  [0 0 0]\n",
       "  [0 0 0]]\n",
       "\n",
       " [[0 0 0]\n",
       "  [0 0 0]\n",
       "  [0 0 0]\n",
       "  ...\n",
       "  [0 0 0]\n",
       "  [0 0 0]\n",
       "  [0 0 0]]\n",
       "\n",
       " ...\n",
       "\n",
       " [[0 0 0]\n",
       "  [0 0 0]\n",
       "  [0 0 0]\n",
       "  ...\n",
       "  [0 0 0]\n",
       "  [0 0 0]\n",
       "  [0 0 0]]\n",
       "\n",
       " [[0 0 0]\n",
       "  [0 0 0]\n",
       "  [0 0 0]\n",
       "  ...\n",
       "  [0 0 0]\n",
       "  [0 0 0]\n",
       "  [0 0 0]]\n",
       "\n",
       " [[0 0 0]\n",
       "  [0 0 0]\n",
       "  [0 0 0]\n",
       "  ...\n",
       "  [0 0 0]\n",
       "  [0 0 0]\n",
       "  [0 0 0]]], [[[255 255 255]\n",
       "  [255 255 255]\n",
       "  [255 255 255]\n",
       "  ...\n",
       "  [255 255 255]\n",
       "  [255 255 255]\n",
       "  [255 255 255]]\n",
       "\n",
       " [[255 255 255]\n",
       "  [255 255 255]\n",
       "  [255 255 255]\n",
       "  ...\n",
       "  [255 255 255]\n",
       "  [255 255 255]\n",
       "  [255 255 255]]\n",
       "\n",
       " [[255 255 255]\n",
       "  [255 255 255]\n",
       "  [255 255 255]\n",
       "  ...\n",
       "  [255 255 255]\n",
       "  [255 255 255]\n",
       "  [255 255 255]]\n",
       "\n",
       " ...\n",
       "\n",
       " [[255 255 255]\n",
       "  [255 255 255]\n",
       "  [255 255 255]\n",
       "  ...\n",
       "  [255 255 255]\n",
       "  [255 255 255]\n",
       "  [255 255 255]]\n",
       "\n",
       " [[255 255 255]\n",
       "  [255 255 255]\n",
       "  [255 255 255]\n",
       "  ...\n",
       "  [255 255 255]\n",
       "  [255 255 255]\n",
       "  [255 255 255]]\n",
       "\n",
       " [[255 255 255]\n",
       "  [255 255 255]\n",
       "  [255 255 255]\n",
       "  ...\n",
       "  [255 255 255]\n",
       "  [255 255 255]\n",
       "  [255 255 255]]], (200, 256, 3), uint8)"
      ]
     },
     "execution_count": 4,
     "metadata": {},
     "output_type": "execute_result"
    }
   ],
   "source": [
    "env.observation_space"
   ]
  },
  {
   "attachments": {},
   "cell_type": "markdown",
   "metadata": {},
   "source": [
    "This most likely tells us that each observation is an image of height 200, width of 256, and 3 channels of RGB"
   ]
  },
  {
   "cell_type": "code",
   "execution_count": 5,
   "metadata": {},
   "outputs": [
    {
     "data": {
      "text/plain": [
       "array([0, 1, 0, 1, 1, 1, 0, 0, 1, 1, 1, 0], dtype=int8)"
      ]
     },
     "execution_count": 5,
     "metadata": {},
     "output_type": "execute_result"
    }
   ],
   "source": [
    "env.action_space\n",
    "env.action_space.sample()"
   ]
  },
  {
   "attachments": {},
   "cell_type": "markdown",
   "metadata": {},
   "source": [
    "This means that we have a one-hot-encoded vector of length 12 to represent our action space. This means that we have 2^12 possible actions!"
   ]
  },
  {
   "attachments": {},
   "cell_type": "markdown",
   "metadata": {},
   "source": [
    "# Preprocess the environment\n",
    "\n",
    "### Agenda:\n",
    "- Shrink the images so we have less pixels\n",
    "- Calculate the frame delta (to understand movement and change within the game)\n",
    "- Filter the action \n",
    "- Set the reward function to the score of the game"
   ]
  },
  {
   "cell_type": "code",
   "execution_count": 7,
   "metadata": {},
   "outputs": [],
   "source": [
    "# import the environment base class\n",
    "from gym import Env\n",
    "\n",
    "# import opencv to process the image\n",
    "import cv2\n",
    "# import numpy to work calculate the frame delta\n",
    "import numpy as np\n",
    "# import the space shapes for our environment\n",
    "from gym.spaces import MultiBinary, Box\n",
    "# import matplotlib to plot the image\n",
    "from matplotlib import pyplot as plt"
   ]
  },
  {
   "cell_type": "code",
   "execution_count": 8,
   "metadata": {},
   "outputs": [],
   "source": [
    "# Create custom environment\n",
    "class StreetFighter(Env):\n",
    "    def __init__(self):\n",
    "        super().__init__()\n",
    "        self.observation_space = Box(low=0, high=255, shape=(84, 84, 1), dtype=np.uint8)\n",
    "        self.action_space = MultiBinary(12)\n",
    "        # startup an instance of the game\n",
    "        self.game = retro.make(game='StreetFighterIISpecialChampionEdition-Genesis', use_restricted_actions=retro.Actions.FILTERED)\n",
    "    \n",
    "    def step(self, action):\n",
    "        # take a step (using the base environment)\n",
    "        obs, reward, done, info = self.game.step(action)\n",
    "        # preprocess the observation\n",
    "        obs = self.preprocess(obs)\n",
    "\n",
    "        # calculate the frame delta\n",
    "        frame_delta = obs - self.previous_frame\n",
    "        self.previous_frame = obs\n",
    "\n",
    "        # calculate the score delta and reshape the reward function based on the score in the environment\n",
    "        reward = info['score'] - self.score\n",
    "        self.score = info['score']\n",
    "\n",
    "        return frame_delta, reward, done, info\n",
    "\n",
    "    def reset(self):\n",
    "        obs = self.game.reset()\n",
    "        # preprocess the image\n",
    "        obs = self.preprocess(obs)\n",
    "        # initialize the previous_frame value with the first frame\n",
    "        self.previous_frame = obs\n",
    "        # create a default value for the score delta\n",
    "        self.score = 0\n",
    "        return obs\n",
    "    \n",
    "    def preprocess(self, observation):\n",
    "        # Grayscaling \n",
    "        gray = cv2.cvtColor(observation, cv2.COLOR_BGR2GRAY)\n",
    "        # resize the image\n",
    "        resize = cv2.resize(gray, (84, 84), interpolation=cv2.INTER_CUBIC)\n",
    "        # add the channels value \n",
    "        channels = np.reshape(resize, (84, 84, 1))\n",
    "\n",
    "        return channels\n",
    "        \n",
    "    def render(self, *args, **kwargs):\n",
    "        self.game.render()\n",
    "\n",
    "    def close(self):\n",
    "        self.game.close()"
   ]
  },
  {
   "cell_type": "code",
   "execution_count": 9,
   "metadata": {},
   "outputs": [],
   "source": [
    "# # Setup a game loop to see what the game looks like (testing)\n",
    "# obs = env.reset()\n",
    "# done = False\n",
    "# # we are choosing to only play one game\n",
    "# for game in range(1):\n",
    "#     while not done:\n",
    "#         if done:\n",
    "#             obs = env.reset()\n",
    "#         env.render()\n",
    "#         action = env.action_space.sample()\n",
    "#         obs, reward, done, info = env.step(action)\n",
    "#         if reward > 0:\n",
    "#             print(reward)"
   ]
  },
  {
   "attachments": {},
   "cell_type": "markdown",
   "metadata": {},
   "source": [
    "## Tune hyperparameters with Optuna"
   ]
  },
  {
   "cell_type": "code",
   "execution_count": 10,
   "metadata": {},
   "outputs": [
    {
     "name": "stderr",
     "output_type": "stream",
     "text": [
      "/Users/jacobjun/Python projects/Street-Fighter-agent/street_fighter/lib/python3.8/site-packages/tqdm/auto.py:22: TqdmWarning: IProgress not found. Please update jupyter and ipywidgets. See https://ipywidgets.readthedocs.io/en/stable/user_install.html\n",
      "  from .autonotebook import tqdm as notebook_tqdm\n"
     ]
    }
   ],
   "source": [
    "import optuna \n",
    "from stable_baselines3 import PPO\n",
    "# useful for evaluting the current policy during our hyperparameter tuning\n",
    "from stable_baselines3.common.evaluation import evaluate_policy\n",
    "# import Monitor for logging\n",
    "from stable_baselines3.common.monitor import Monitor\n",
    "# import DummyVecEnv for vectorizing our environment and frame stacking\n",
    "from stable_baselines3.common.vec_env import DummyVecEnv, VecFrameStack"
   ]
  },
  {
   "cell_type": "code",
   "execution_count": 11,
   "metadata": {},
   "outputs": [],
   "source": [
    "LOG_DIR = \"./logs/\"\n",
    "OPT_DIR = \"./opt/\""
   ]
  },
  {
   "cell_type": "code",
   "execution_count": 13,
   "metadata": {},
   "outputs": [],
   "source": [
    "# Function to return test hyperparameters\n",
    "def optimize_ppo(trial):\n",
    "    return {\n",
    "        \"n_steps\": trial.suggest_int(\"n_steps\", 2048, 8192),\n",
    "        \"gamma\": trial.suggest_loguniform(\"gamma\", 0.8, 0.9999),\n",
    "        \"learning_rate\": trial.suggest_loguniform(\"learning_rate\", 1e-5, 1e-4),\n",
    "        \"clip_range\": trial.suggest_uniform(\"clip_range\", 0.1, 0.4),\n",
    "        \"gae_lambda\": trial.suggest_uniform(\"gae_lambda\", 0.8, 0.99),\n",
    "    }"
   ]
  },
  {
   "cell_type": "code",
   "execution_count": 14,
   "metadata": {},
   "outputs": [],
   "source": [
    "# Setup the training loop and return the mean reward\n",
    "total_steps = 100000\n",
    "def train_ppo(trial):\n",
    "    try:\n",
    "        # setup the hyperparameters\n",
    "        hyperparams = optimize_ppo(trial)\n",
    "        # setup the environment\n",
    "        env = StreetFighter()\n",
    "        # setup the monitor (this is important since we are vectorizing the environment, because this allows us \n",
    "        # to get the mean episode reward and mean episode length)\n",
    "        env = Monitor(env, LOG_DIR)\n",
    "        # setup the vectorized environment\n",
    "        env = DummyVecEnv([lambda: env])\n",
    "        # setup the frame stacking\n",
    "        env = VecFrameStack(env, n_stack=4, channels_order='last')\n",
    "        # setup the model\n",
    "        model = PPO(\"CnnPolicy\", env, verbose=0, tensorboard_log=LOG_DIR, **hyperparams)\n",
    "        # train the model\n",
    "        model.learn(total_timesteps=total_steps)\n",
    "        # evaluate the model\n",
    "        mean_reward, _ = evaluate_policy(model, env, n_eval_episodes=5)\n",
    "        # close the environment\n",
    "        env.close()\n",
    "\n",
    "        # save the best model\n",
    "        SAVE_PATH = os.path.join(OPT_DIR, \"trial_{}_best_model\".format(trial.number))\n",
    "        model.save(SAVE_PATH)\n",
    "\n",
    "        return mean_reward\n",
    "\n",
    "    except Exception as e:\n",
    "        return -1000"
   ]
  },
  {
   "cell_type": "code",
   "execution_count": 15,
   "metadata": {},
   "outputs": [
    {
     "name": "stderr",
     "output_type": "stream",
     "text": [
      "\u001b[32m[I 2022-12-25 21:08:35,941]\u001b[0m A new study created in memory with name: no-name-a6459919-e494-469f-8592-9d50ade99ee9\u001b[0m\n",
      "/var/folders/77/3gnlygq12bzcg326t9bfzgvm0000gn/T/ipykernel_21760/456939863.py:5: FutureWarning: suggest_loguniform has been deprecated in v3.0.0. This feature will be removed in v6.0.0. See https://github.com/optuna/optuna/releases/tag/v3.0.0. Use :func:`~optuna.trial.Trial.suggest_float` instead.\n",
      "  \"gamma\": trial.suggest_loguniform(\"gamma\", 0.8, 0.9999),\n",
      "/var/folders/77/3gnlygq12bzcg326t9bfzgvm0000gn/T/ipykernel_21760/456939863.py:6: FutureWarning: suggest_loguniform has been deprecated in v3.0.0. This feature will be removed in v6.0.0. See https://github.com/optuna/optuna/releases/tag/v3.0.0. Use :func:`~optuna.trial.Trial.suggest_float` instead.\n",
      "  \"learning_rate\": trial.suggest_loguniform(\"learning_rate\", 1e-5, 1e-4),\n",
      "/var/folders/77/3gnlygq12bzcg326t9bfzgvm0000gn/T/ipykernel_21760/456939863.py:7: FutureWarning: suggest_uniform has been deprecated in v3.0.0. This feature will be removed in v6.0.0. See https://github.com/optuna/optuna/releases/tag/v3.0.0. Use :func:`~optuna.trial.Trial.suggest_float` instead.\n",
      "  \"clip_range\": trial.suggest_uniform(\"clip_range\", 0.1, 0.4),\n",
      "/var/folders/77/3gnlygq12bzcg326t9bfzgvm0000gn/T/ipykernel_21760/456939863.py:8: FutureWarning: suggest_uniform has been deprecated in v3.0.0. This feature will be removed in v6.0.0. See https://github.com/optuna/optuna/releases/tag/v3.0.0. Use :func:`~optuna.trial.Trial.suggest_float` instead.\n",
      "  \"gae_lambda\": trial.suggest_uniform(\"gae_lambda\", 0.8, 0.99),\n",
      "/Users/jacobjun/Python projects/Street-Fighter-agent/street_fighter/lib/python3.8/site-packages/stable_baselines3/ppo/ppo.py:151: UserWarning: You have specified a mini-batch size of 64, but because the `RolloutBuffer` is of size `n_steps * n_envs = 7489`, after every 117 untruncated mini-batches, there will be a truncated mini-batch of size 1\n",
      "We recommend using a `batch_size` that is a factor of `n_steps * n_envs`.\n",
      "Info: (n_steps=7489 and n_envs=1)\n",
      "  warnings.warn(\n",
      "/Users/jacobjun/Python projects/Street-Fighter-agent/street_fighter/lib/python3.8/site-packages/stable_baselines3/common/save_util.py:276: UserWarning: Path 'opt' does not exist. Will create it.\n",
      "  warnings.warn(f\"Path '{path.parent}' does not exist. Will create it.\")\n",
      "\u001b[32m[I 2022-12-25 21:12:36,216]\u001b[0m Trial 0 finished with value: 19200.0 and parameters: {'n_steps': 7489, 'gamma': 0.9774495372176722, 'learning_rate': 7.004741008281202e-05, 'clip_range': 0.12141611344965272, 'gae_lambda': 0.8172720382244215}. Best is trial 0 with value: 19200.0.\u001b[0m\n"
     ]
    }
   ],
   "source": [
    "# NOTE that since we used a positive reward function, we are maximizing the reward\n",
    "study = optuna.create_study(direction=\"maximize\")\n",
    "study.optimize(train_ppo, n_trials=100, n_jobs=1)"
   ]
  },
  {
   "cell_type": "code",
   "execution_count": 17,
   "metadata": {},
   "outputs": [],
   "source": [
    "best_model = PPO.load(os.path.join(OPT_DIR, \"trial_{}_best_model\".format(study.best_trial.number)))"
   ]
  },
  {
   "attachments": {},
   "cell_type": "markdown",
   "metadata": {},
   "source": [
    "# Setup Callback"
   ]
  },
  {
   "cell_type": "code",
   "execution_count": null,
   "metadata": {},
   "outputs": [],
   "source": [
    "from stable_baselines3.common.callbacks import BaseCallback"
   ]
  },
  {
   "cell_type": "code",
   "execution_count": null,
   "metadata": {},
   "outputs": [],
   "source": [
    "class TrainAndLoggingCallback(BaseCallback):\n",
    "\n",
    "    def __init__(self, check_freq, save_path, verbose=1):\n",
    "        super(TrainAndLoggingCallback, self).__init__(verbose)\n",
    "        self.check_freq = check_freq\n",
    "        self.save_path = save_path\n",
    "\n",
    "    def _init_callback(self):\n",
    "        if self.save_path is not None:\n",
    "            os.makedirs(self.save_path, exist_ok=True)\n",
    "\n",
    "    def _on_step(self):\n",
    "        if self.n_calls % self.check_freq == 0:\n",
    "            model_path = os.path.join(self.save_path, 'best_model_{}'.format(self.n_calls))\n",
    "            self.model.save(model_path)\n",
    "\n",
    "        return True"
   ]
  },
  {
   "cell_type": "code",
   "execution_count": null,
   "metadata": {},
   "outputs": [],
   "source": [
    "CHECKPOINT_DIR = \"./train/\"\n",
    "callback = TrainAndLoggingCallback(check_freq=10000, save_path=CHECKPOINT_DIR)"
   ]
  },
  {
   "attachments": {},
   "cell_type": "markdown",
   "metadata": {},
   "source": [
    "# Train Model"
   ]
  },
  {
   "cell_type": "code",
   "execution_count": null,
   "metadata": {},
   "outputs": [],
   "source": [
    "# Recreate the environment\n",
    "env = StreetFighter()\n",
    "# setup the monitor (this is important since we are vectorizing the environment, because this allows us\n",
    "# to get the mean episode reward and mean episode length)\n",
    "env = Monitor(env, LOG_DIR)\n",
    "# setup the vectorized environment\n",
    "env = DummyVecEnv([lambda: env])\n",
    "# setup the frame stacking\n",
    "env = VecFrameStack(env, n_stack=4, channels_order='last')"
   ]
  },
  {
   "cell_type": "code",
   "execution_count": null,
   "metadata": {},
   "outputs": [],
   "source": []
  }
 ],
 "metadata": {
  "kernelspec": {
   "display_name": "street_fighter",
   "language": "python",
   "name": "python3"
  },
  "language_info": {
   "codemirror_mode": {
    "name": "ipython",
    "version": 3
   },
   "file_extension": ".py",
   "mimetype": "text/x-python",
   "name": "python",
   "nbconvert_exporter": "python",
   "pygments_lexer": "ipython3",
   "version": "3.8.11"
  },
  "orig_nbformat": 4,
  "vscode": {
   "interpreter": {
    "hash": "9c3846ce54bed1895ba0d2c90c8f55d61bce045021babe443836d90a30036b65"
   }
  }
 },
 "nbformat": 4,
 "nbformat_minor": 2
}
